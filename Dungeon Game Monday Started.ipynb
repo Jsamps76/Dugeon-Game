{
 "cells": [
  {
   "cell_type": "code",
   "execution_count": 8,
   "metadata": {},
   "outputs": [
    {
     "ename": "IndentationError",
     "evalue": "unexpected indent (<ipython-input-8-96c9ed9b7479>, line 35)",
     "output_type": "error",
     "traceback": [
      "\u001b[0;36m  File \u001b[0;32m\"<ipython-input-8-96c9ed9b7479>\"\u001b[0;36m, line \u001b[0;32m35\u001b[0m\n\u001b[0;31m    def _init_(self, x,y):\u001b[0m\n\u001b[0m    ^\u001b[0m\n\u001b[0;31mIndentationError\u001b[0m\u001b[0;31m:\u001b[0m unexpected indent\n"
     ]
    }
   ],
   "source": [
    "CELLS = [\n",
    "    (0,0),(1,0),(2,0),(3,0),(4,0),\n",
    "    (0,1),(1,1),(2,1),(3,1),(4,1),\n",
    "    (0,2),(1,2),(2,2),(3,2),(4,2),\n",
    "    (0,3),(1,3),(2,3),(3,3),(4,3),\n",
    "    (0,4),(1,4),(2,4),(3,4),(4,4),\n",
    "]\n",
    "\n",
    "class Game:\n",
    "    def _init_(self):\n",
    "        pass\n",
    "    \n",
    "    def drawMap(self):\n",
    "        for cell in self.CELLS:\n",
    "            pass\n",
    "        \n",
    "class Token:\n",
    "    def _init_(self, x,y):\n",
    "        self.x = x\n",
    "        self.y = y\n",
    "        self.location =(x,y)\n",
    "    \n",
    "class Player:\n",
    "    location = [1,1]\n",
    "    \n",
    "    def move(self,direction):\n",
    "        if direction == 'up':\n",
    "            self.location[1] +=1\n",
    "        \n",
    "player1 = Player()\n",
    "player1.move('up')\n",
    "player1.location\n",
    "\n",
    "\n",
    "    def _init_(self, x,y):\n",
    "        self.x = x\n",
    "        self.y = y\n",
    "        self.location =(x,y)\n",
    "        \n",
    "monster = Monster(1,1)     \n",
    "\n",
    "class Egg(Token):\n",
    "    def _init_(self, x,y):\n",
    "        self.x = x\n",
    "        self.y = y\n",
    "        self.location =(x,y)\n",
    "        \n",
    "egg = Egg(1,1)        \n",
    "        \n",
    "class Basket(Token):\n",
    "    def _init_(self, x,y):\n",
    "        self.x = x\n",
    "        self.y = y\n",
    "        self.location =(x,y)\n",
    "        \n",
    "basket = Basket(1,1)        \n",
    "\n",
    "class Door(Token):\n",
    "    def _init_(self, x,y):\n",
    "        self.x = x\n",
    "        self.y = y\n",
    "        self.location =(x,y)\n",
    "        \n",
    "door = Door(1,1)\n",
    "\n",
    "\n",
    "\n",
    "board = []\n",
    "for x in range (5):\n",
    "    new_row = []\n",
    "    for y in range(5):\n",
    "        if (x,y) == monster.location:\n",
    "            new_row.append(\"M\")\n",
    "        new_row.append(\"_\") \n",
    "    board.append(new_row)\n",
    "    \n",
    "board    \n",
    "            "
   ]
  },
  {
   "cell_type": "code",
   "execution_count": null,
   "metadata": {},
   "outputs": [],
   "source": [
    "\n",
    "\n"
   ]
  },
  {
   "cell_type": "code",
   "execution_count": 4,
   "metadata": {},
   "outputs": [],
   "source": [
    "rooms = [\n",
    "    (0,0),(1,0),(2,0),(3,0),(4,0),\n",
    "    (0,1),(1,1),(2,1),(3,1),(4,1),\n",
    "    (0,2),(1,2),(2,2),(3,2),(4,2),\n",
    "    (0,3),(1,3),(2,3),(3,3),(4,3),\n",
    "    (0,4),(1,4),(2,4),(3,4),(4,4),\n",
    "]"
   ]
  },
  {
   "cell_type": "code",
   "execution_count": 6,
   "metadata": {},
   "outputs": [],
   "source": []
  },
  {
   "cell_type": "code",
   "execution_count": null,
   "metadata": {},
   "outputs": [],
   "source": []
  }
 ],
 "metadata": {
  "kernelspec": {
   "display_name": "Python 3",
   "language": "python",
   "name": "python3"
  },
  "language_info": {
   "codemirror_mode": {
    "name": "ipython",
    "version": 3
   },
   "file_extension": ".py",
   "mimetype": "text/x-python",
   "name": "python",
   "nbconvert_exporter": "python",
   "pygments_lexer": "ipython3",
   "version": "3.8.3"
  }
 },
 "nbformat": 4,
 "nbformat_minor": 4
}
